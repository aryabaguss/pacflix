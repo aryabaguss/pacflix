{
  "nbformat": 4,
  "nbformat_minor": 0,
  "metadata": {
    "colab": {
      "provenance": []
    },
    "kernelspec": {
      "name": "python3",
      "display_name": "Python 3"
    },
    "language_info": {
      "name": "python"
    }
  },
  "cells": [
    {
      "cell_type": "markdown",
      "source": [
        "# Case I : Video Streaming Services\n",
        "\n",
        "Python - Sekolah Data - Pacmann Academy\n",
        "\n",
        "## Table Plan\n",
        "| **Basic Plan**       | **Standard Plan**                                       | **Premium Plan**                                               | **Services**   |\n",
        "|----------------------|---------------------------------------------------------|----------------------------------------------------------------|----------------|\n",
        "| ✓                    | ✓                                                       | ✓                                                              | can_stream     |\n",
        "| ✓                    | ✓                                                       | ✓                                                              | can_download   |\n",
        "| ✓                    | ✓                                                       | ✓                                                              | has_SD         |\n",
        "|                      | ✓                                                       | ✓                                                              | has_HD         |\n",
        "|                      |                                                         | ✓                                                              | has_UHD        |\n",
        "| 1                    | 2                                                       | 4                                                              | num_of_devices |\n",
        "| 3rd party movie only | Basic Plan Content + Sports  (F1, Football, Basketball) | Basic Plan + Standard Plan +  PacFlix Original Series or Movie | content        |\n",
        "| Rp 120.000,-         | Rp 160.000,-                                            | Rp 200.000,-                                                   | price          |\n",
        "\n",
        "\n",
        "## Features List yang dibutuhkan\n",
        "- [ ] `check_benefit()` --> tampilkan semua benefit\n",
        "- [ ] `check_plan(username)` --> tampilkan benefit yang didapatkan dan udah langganan berapa lama (done)\n",
        "- [ ] `upgrade_plan(username, current_plan, new_plan)` --> harga final, if langganan > 12 bulan akan dapet diskon 5%\n",
        "- [ ] `pick_plan(new_plan, code_referral)` --> untuk new user, harga final kalo pake kode referral dapet diskon 4%\n",
        "\n",
        "\n",
        "\n",
        "\n"
      ],
      "metadata": {
        "id": "KQMFVVtaHS1c"
      }
    },
    {
      "cell_type": "code",
      "execution_count": 1,
      "metadata": {
        "id": "_ngiGn5dlv2v"
      },
      "outputs": [],
      "source": [
        "from tabulate import tabulate\n",
        "\n",
        "class User:\n",
        "    user= {\n",
        "    \"Shandy\": [\"Basic Plan\", 12, \"shandy-2134\"],\n",
        "    \"Cahya\": [\"Standard Plan\", 24, \"cahya-abcd\"],\n",
        "    \"Ana\": [\"Premium Plan\", 5, \"ana-2f9g\"],\n",
        "    \"Bagus\": [\"Basic Plan\", 11, \"bagus-9f92\"]\n",
        "    }\n",
        "\n",
        "    plan = {\n",
        "    \"Services\" : ['Stream', 'Download','SD Quality','HD Quality','UHD Quality','Number of Devices','Content Variety','Price'],\n",
        "    \"Basic Plan\":['\\u2713','\\u2713','\\u2713','\\u00D7','\\u00D7',1,'3rd party Movie Only', 120_000],\n",
        "    \"Standard Plan\":['\\u2713','\\u2713','\\u2713','\\u2713','\\u00D7',2,'Basic Plan + Sports (F1, Football, Basketball)',160_000],\n",
        "    \"Premium Plan\":['\\u2713','\\u2713','\\u2713','\\u2713','\\u2713',4,'Basic Plan + Standard Plan + Pacflix Original Series',200_000]\n",
        "    }\n",
        "\n",
        "    compare = {\n",
        "    \"Basic Plan\": 1, \"Standard Plan\": 2, \"Premium Plan\": 3\n",
        "    }\n",
        "\n",
        "    list_plan = list(plan.keys())\n",
        "    list_user = list(user.keys())\n",
        "\n",
        "\n",
        "    def __init__(self,username,current_plan,duration_plan):\n",
        "        self.username = username\n",
        "        self.current_plan = current_plan.title()\n",
        "        self.duration_plan = duration_plan\n",
        "\n",
        "        if self.username not in (self.list_user):\n",
        "          raise ValueError(\"Username didn't exist!\")\n",
        "\n",
        "        if self.current_plan not in (self.list_plan):\n",
        "          raise ValueError(\"Plan didn't exist!\")\n",
        "\n",
        "    def check_benefit(self):\n",
        "        print()\n",
        "        print('Pacflix Plan List')\n",
        "        print(tabulate(self.plan, headers = \"keys\" ,tablefmt='fancy_grid'))\n",
        "        print()\n",
        "\n",
        "    def check_plan(self):\n",
        "        benefit = {\n",
        "            \"Services\" : self.plan['Services'],\n",
        "            \"Plan\" : self.plan[self.current_plan]\n",
        "        }\n",
        "        print(f'Username      : {self.username}')\n",
        "        print(f'Current Plan  : {self.current_plan}')\n",
        "        print(f'Duration Plan : {self.duration_plan} Months')\n",
        "        print()\n",
        "        print(f'{self.current_plan} Pacflix Benefit List')\n",
        "        print(tabulate(benefit, headers = ['Services', self.current_plan] ,tablefmt='fancy_grid'))\n",
        "        print()\n",
        "\n",
        "    def upgrade_plan(self,new_plan):\n",
        "        self.new_plan = new_plan.title()\n",
        "        if self.new_plan not in (self.list_plan):\n",
        "            raise Exception(\"Plan didn't exist!\")\n",
        "        else:\n",
        "            pass\n",
        "\n",
        "        plan_price = self.plan[self.new_plan][-1]\n",
        "        if self.compare[self.current_plan] < self.compare[new_plan]:\n",
        "            if self.duration_plan > 12:\n",
        "                discount = (5/100)\n",
        "            else:\n",
        "                discount = 0\n",
        "\n",
        "            final_price = plan_price - (plan_price * discount)\n",
        "            print(f'Price for upgrading to {self.new_plan}: Rp {final_price:,}')\n",
        "\n",
        "        elif self.compare[self.current_plan] == self.compare[new_plan]:\n",
        "            print(f\"{new_plan} is your current plan, please choose another plan.\")\n",
        "\n",
        "        else:\n",
        "            print(f\"Your current plan is {self.current_plan}. You can't Downgrade your plan.\")\n",
        "\n",
        "class New_User:\n",
        "    def __init__(self,username):\n",
        "        self.username = username\n",
        "\n",
        "    def check_benefit(self):\n",
        "        print()\n",
        "        print('Pacflix Plan List')\n",
        "        print(tabulate(User.plan, headers = \"keys\" ,tablefmt='fancy_grid'))\n",
        "        print()\n",
        "\n",
        "    def pick_plan(self,new_plan,referral_code):\n",
        "        self.new_plan = new_plan.title()\n",
        "        self.referral_code = referral_code\n",
        "        if self.new_plan not in (User.list_plan):\n",
        "            raise Exception(\"Plan didn't exist!\")\n",
        "        else:\n",
        "            pass\n",
        "\n",
        "        plan_price = User.plan[self.new_plan][-1]\n",
        "\n",
        "        list_values = []\n",
        "        for sublist in User.user.values():\n",
        "            for item in sublist:\n",
        "                list_values.append(item)\n",
        "\n",
        "        if referral_code in (list_values):\n",
        "            print('Referral Code is Available')\n",
        "            discount = (4/100)\n",
        "        else:\n",
        "            raise Exception(\"Referral Code doesn't Exist\")\n",
        "\n",
        "        final_price = plan_price - (plan_price * discount)\n",
        "        print(f'Total Price for {self.new_plan}: Rp {final_price:,}')\n",
        "\n"
      ]
    },
    {
      "cell_type": "code",
      "source": [
        "'''Case Study 1: User Check all plan benefit '''\n",
        "print()\n",
        "print('==== STUDY CASE 1 ====')\n",
        "user_1 = User('Shandy','basic plan',12)\n",
        "print(user_1.username, user_1.current_plan, user_1.duration_plan)\n",
        "user_1.check_benefit()"
      ],
      "metadata": {
        "colab": {
          "base_uri": "https://localhost:8080/"
        },
        "id": "Nnf84pacl8Pu",
        "outputId": "2014c1e9-81f9-468b-e667-377fcffe773e"
      },
      "execution_count": null,
      "outputs": [
        {
          "output_type": "stream",
          "name": "stdout",
          "text": [
            "\n",
            "==== STUDY CASE 1 ====\n",
            "Shandy Basic Plan 12\n",
            "\n",
            "Pacflix Plan List\n",
            "╒═══════════════════╤══════════════════════╤════════════════════════════════════════════════╤══════════════════════════════════════════════════════╕\n",
            "│ Services          │ Basic Plan           │ Standard Plan                                  │ Premium Plan                                         │\n",
            "╞═══════════════════╪══════════════════════╪════════════════════════════════════════════════╪══════════════════════════════════════════════════════╡\n",
            "│ Stream            │ ✓                    │ ✓                                              │ ✓                                                    │\n",
            "├───────────────────┼──────────────────────┼────────────────────────────────────────────────┼──────────────────────────────────────────────────────┤\n",
            "│ Download          │ ✓                    │ ✓                                              │ ✓                                                    │\n",
            "├───────────────────┼──────────────────────┼────────────────────────────────────────────────┼──────────────────────────────────────────────────────┤\n",
            "│ SD Quality        │ ✓                    │ ✓                                              │ ✓                                                    │\n",
            "├───────────────────┼──────────────────────┼────────────────────────────────────────────────┼──────────────────────────────────────────────────────┤\n",
            "│ HD Quality        │ ×                    │ ✓                                              │ ✓                                                    │\n",
            "├───────────────────┼──────────────────────┼────────────────────────────────────────────────┼──────────────────────────────────────────────────────┤\n",
            "│ UHD Quality       │ ×                    │ ×                                              │ ✓                                                    │\n",
            "├───────────────────┼──────────────────────┼────────────────────────────────────────────────┼──────────────────────────────────────────────────────┤\n",
            "│ Number of Devices │ 1                    │ 2                                              │ 4                                                    │\n",
            "├───────────────────┼──────────────────────┼────────────────────────────────────────────────┼──────────────────────────────────────────────────────┤\n",
            "│ Content Variety   │ 3rd party Movie Only │ Basic Plan + Sports (F1, Football, Basketball) │ Basic Plan + Standard Plan + Pacflix Original Series │\n",
            "├───────────────────┼──────────────────────┼────────────────────────────────────────────────┼──────────────────────────────────────────────────────┤\n",
            "│ Price             │ 120000               │ 160000                                         │ 200000                                               │\n",
            "╘═══════════════════╧══════════════════════╧════════════════════════════════════════════════╧══════════════════════════════════════════════════════╛\n",
            "\n"
          ]
        }
      ]
    },
    {
      "cell_type": "code",
      "source": [
        "'''Case Study 2: user check current plan and show benefit'''\n",
        "print('==== STUDY CASE 2 ====')\n",
        "user_2 = User('Cahya','standard plan',24)\n",
        "user_2.check_plan()"
      ],
      "metadata": {
        "colab": {
          "base_uri": "https://localhost:8080/"
        },
        "id": "Oah86ZXwmCz4",
        "outputId": "992b01f7-6a83-4be9-e059-99ffaf639216"
      },
      "execution_count": null,
      "outputs": [
        {
          "output_type": "stream",
          "name": "stdout",
          "text": [
            "==== STUDY CASE 2 ====\n",
            "Username      : Cahya\n",
            "Current Plan  : Standard Plan\n",
            "Duration Plan : 24 Months\n",
            "\n",
            "Standard Plan Pacflix Benefit List\n",
            "╒═══════════════════╤════════════════════════════════════════════════╕\n",
            "│ Services          │ Standard Plan                                  │\n",
            "╞═══════════════════╪════════════════════════════════════════════════╡\n",
            "│ Stream            │ ✓                                              │\n",
            "├───────────────────┼────────────────────────────────────────────────┤\n",
            "│ Download          │ ✓                                              │\n",
            "├───────────────────┼────────────────────────────────────────────────┤\n",
            "│ SD Quality        │ ✓                                              │\n",
            "├───────────────────┼────────────────────────────────────────────────┤\n",
            "│ HD Quality        │ ✓                                              │\n",
            "├───────────────────┼────────────────────────────────────────────────┤\n",
            "│ UHD Quality       │ ×                                              │\n",
            "├───────────────────┼────────────────────────────────────────────────┤\n",
            "│ Number of Devices │ 2                                              │\n",
            "├───────────────────┼────────────────────────────────────────────────┤\n",
            "│ Content Variety   │ Basic Plan + Sports (F1, Football, Basketball) │\n",
            "├───────────────────┼────────────────────────────────────────────────┤\n",
            "│ Price             │ 160000                                         │\n",
            "╘═══════════════════╧════════════════════════════════════════════════╛\n",
            "\n"
          ]
        }
      ]
    },
    {
      "cell_type": "code",
      "source": [
        "'''Case Study 3: user want to upgrade plan'''\n",
        "print('==== STUDY CASE 3 ====')\n",
        "user_3 = User('Cahya','Standard Plan',24)\n",
        "user_3.check_benefit()\n",
        "user_3.check_plan()\n",
        "user_3.upgrade_plan('Premium Plan')"
      ],
      "metadata": {
        "colab": {
          "base_uri": "https://localhost:8080/"
        },
        "id": "o9JwUF0OmCm0",
        "outputId": "ff822599-88ec-4c79-8e4a-d9bfc6ac5bc4"
      },
      "execution_count": null,
      "outputs": [
        {
          "output_type": "stream",
          "name": "stdout",
          "text": [
            "==== STUDY CASE 3 ====\n",
            "\n",
            "Pacflix Plan List\n",
            "╒═══════════════════╤══════════════════════╤════════════════════════════════════════════════╤══════════════════════════════════════════════════════╕\n",
            "│ Services          │ Basic Plan           │ Standard Plan                                  │ Premium Plan                                         │\n",
            "╞═══════════════════╪══════════════════════╪════════════════════════════════════════════════╪══════════════════════════════════════════════════════╡\n",
            "│ Stream            │ True                 │ True                                           │ True                                                 │\n",
            "├───────────────────┼──────────────────────┼────────────────────────────────────────────────┼──────────────────────────────────────────────────────┤\n",
            "│ Download          │ True                 │ True                                           │ True                                                 │\n",
            "├───────────────────┼──────────────────────┼────────────────────────────────────────────────┼──────────────────────────────────────────────────────┤\n",
            "│ SD Quality        │ True                 │ True                                           │ True                                                 │\n",
            "├───────────────────┼──────────────────────┼────────────────────────────────────────────────┼──────────────────────────────────────────────────────┤\n",
            "│ HD Quality        │ False                │ True                                           │ True                                                 │\n",
            "├───────────────────┼──────────────────────┼────────────────────────────────────────────────┼──────────────────────────────────────────────────────┤\n",
            "│ UHD Quality       │ False                │ False                                          │ True                                                 │\n",
            "├───────────────────┼──────────────────────┼────────────────────────────────────────────────┼──────────────────────────────────────────────────────┤\n",
            "│ Number of Devices │ 1                    │ 2                                              │ 4                                                    │\n",
            "├───────────────────┼──────────────────────┼────────────────────────────────────────────────┼──────────────────────────────────────────────────────┤\n",
            "│ Content Variety   │ 3rd party Movie Only │ Basic Plan + Sports (F1, Football, Basketball) │ Basic Plan + Standard Plan + Pacflix Original Series │\n",
            "├───────────────────┼──────────────────────┼────────────────────────────────────────────────┼──────────────────────────────────────────────────────┤\n",
            "│ Price             │ 120000               │ 160000                                         │ 200000                                               │\n",
            "╘═══════════════════╧══════════════════════╧════════════════════════════════════════════════╧══════════════════════════════════════════════════════╛\n",
            "\n",
            "Username      : Cahya\n",
            "Current Plan  : Standard Plan\n",
            "Duration Plan : 24 Months\n",
            "\n",
            "Standard Plan Pacflix Benefit List\n",
            "╒═══════════════════╤════════════════════════════════════════════════╕\n",
            "│ Services          │ Standard Plan                                  │\n",
            "╞═══════════════════╪════════════════════════════════════════════════╡\n",
            "│ Stream            │ True                                           │\n",
            "├───────────────────┼────────────────────────────────────────────────┤\n",
            "│ Download          │ True                                           │\n",
            "├───────────────────┼────────────────────────────────────────────────┤\n",
            "│ SD Quality        │ True                                           │\n",
            "├───────────────────┼────────────────────────────────────────────────┤\n",
            "│ HD Quality        │ True                                           │\n",
            "├───────────────────┼────────────────────────────────────────────────┤\n",
            "│ UHD Quality       │ False                                          │\n",
            "├───────────────────┼────────────────────────────────────────────────┤\n",
            "│ Number of Devices │ 2                                              │\n",
            "├───────────────────┼────────────────────────────────────────────────┤\n",
            "│ Content Variety   │ Basic Plan + Sports (F1, Football, Basketball) │\n",
            "├───────────────────┼────────────────────────────────────────────────┤\n",
            "│ Price             │ 160000                                         │\n",
            "╘═══════════════════╧════════════════════════════════════════════════╛\n",
            "\n",
            "Price for upgrading to Premium Plan: Rp 190,000.0\n"
          ]
        }
      ]
    },
    {
      "cell_type": "code",
      "source": [
        "'''Case Study 4: new user wants to pick a new plan and shows total price'''\n",
        "print()\n",
        "print('==== STUDY CASE 4 ====')\n",
        "faizal = New_User('Faizal_icikiwir')\n",
        "faizal.check_benefit()\n",
        "faizal.pick_plan('basic Plan','bagus-9f92')\n"
      ],
      "metadata": {
        "colab": {
          "base_uri": "https://localhost:8080/"
        },
        "id": "wpgz1n8smCe2",
        "outputId": "842ec72e-0e5a-4576-ae32-caf26b033c54"
      },
      "execution_count": null,
      "outputs": [
        {
          "output_type": "stream",
          "name": "stdout",
          "text": [
            "\n",
            "==== STUDY CASE 4 ====\n",
            "\n",
            "Pacflix Plan List\n",
            "╒═══════════════════╤══════════════════════╤════════════════════════════════════════════════╤══════════════════════════════════════════════════════╕\n",
            "│ Services          │ Basic Plan           │ Standard Plan                                  │ Premium Plan                                         │\n",
            "╞═══════════════════╪══════════════════════╪════════════════════════════════════════════════╪══════════════════════════════════════════════════════╡\n",
            "│ Stream            │ True                 │ True                                           │ True                                                 │\n",
            "├───────────────────┼──────────────────────┼────────────────────────────────────────────────┼──────────────────────────────────────────────────────┤\n",
            "│ Download          │ True                 │ True                                           │ True                                                 │\n",
            "├───────────────────┼──────────────────────┼────────────────────────────────────────────────┼──────────────────────────────────────────────────────┤\n",
            "│ SD Quality        │ True                 │ True                                           │ True                                                 │\n",
            "├───────────────────┼──────────────────────┼────────────────────────────────────────────────┼──────────────────────────────────────────────────────┤\n",
            "│ HD Quality        │ False                │ True                                           │ True                                                 │\n",
            "├───────────────────┼──────────────────────┼────────────────────────────────────────────────┼──────────────────────────────────────────────────────┤\n",
            "│ UHD Quality       │ False                │ False                                          │ True                                                 │\n",
            "├───────────────────┼──────────────────────┼────────────────────────────────────────────────┼──────────────────────────────────────────────────────┤\n",
            "│ Number of Devices │ 1                    │ 2                                              │ 4                                                    │\n",
            "├───────────────────┼──────────────────────┼────────────────────────────────────────────────┼──────────────────────────────────────────────────────┤\n",
            "│ Content Variety   │ 3rd party Movie Only │ Basic Plan + Sports (F1, Football, Basketball) │ Basic Plan + Standard Plan + Pacflix Original Series │\n",
            "├───────────────────┼──────────────────────┼────────────────────────────────────────────────┼──────────────────────────────────────────────────────┤\n",
            "│ Price             │ 120000               │ 160000                                         │ 200000                                               │\n",
            "╘═══════════════════╧══════════════════════╧════════════════════════════════════════════════╧══════════════════════════════════════════════════════╛\n",
            "\n",
            "Referral Code is Available\n",
            "Total Price for Basic Plan: Rp 115,200.0\n"
          ]
        }
      ]
    }
  ]
}